{
    "cells": [
        {
            "cell_type": "code",
            "execution_count": 5,
            "metadata": {
                "scrolled": true
            },
            "outputs": [
                {
                    "name": "stdout",
                    "output_type": "stream",
                    "text": "--2021-02-15 18:20:08--  http://cocl.us/Geospatial_data\nResolving cocl.us (cocl.us)... 169.63.96.176, 169.63.96.194\nConnecting to cocl.us (cocl.us)|169.63.96.176|:80... connected.\nHTTP request sent, awaiting response... 301 Moved Permanently\nLocation: https://cocl.us/Geospatial_data [following]\n--2021-02-15 18:20:08--  https://cocl.us/Geospatial_data\nConnecting to cocl.us (cocl.us)|169.63.96.176|:443... connected.\nHTTP request sent, awaiting response... 301 Moved Permanently\nLocation: https://ibm.box.com/shared/static/9afzr83pps4pwf2smjjcf1y5mvgb18rr.csv [following]\n--2021-02-15 18:20:09--  https://ibm.box.com/shared/static/9afzr83pps4pwf2smjjcf1y5mvgb18rr.csv\nResolving ibm.box.com (ibm.box.com)... 185.235.236.197\nConnecting to ibm.box.com (ibm.box.com)|185.235.236.197|:443... connected.\nHTTP request sent, awaiting response... 301 Moved Permanently\nLocation: /public/static/9afzr83pps4pwf2smjjcf1y5mvgb18rr.csv [following]\n--2021-02-15 18:20:09--  https://ibm.box.com/public/static/9afzr83pps4pwf2smjjcf1y5mvgb18rr.csv\nReusing existing connection to ibm.box.com:443.\nHTTP request sent, awaiting response... 301 Moved Permanently\nLocation: https://ibm.ent.box.com/public/static/9afzr83pps4pwf2smjjcf1y5mvgb18rr.csv [following]\n--2021-02-15 18:20:09--  https://ibm.ent.box.com/public/static/9afzr83pps4pwf2smjjcf1y5mvgb18rr.csv\nResolving ibm.ent.box.com (ibm.ent.box.com)... 185.235.236.201\nConnecting to ibm.ent.box.com (ibm.ent.box.com)|185.235.236.201|:443... connected.\nHTTP request sent, awaiting response... 302 Found\nLocation: https://public.boxcloud.com/d/1/b1!tQLDaGhT5e_XOD-QGbEzz0JT-aUFIHeXUlTayIrm9dcVq4iBLUo_Uk3bdr70RNig8YZNjFn8Ox_Y3NBZ1GT834q7m9_T4vVF08zw8PZYk7HluqD5bi9VfkwqTOR7l7K7y1FKyWIogVdd8s79IuVBkBCz_eaviSu3qMRUkQ-FOIOh5-_tu2csdHnN2-mReK9S8wirvWEmXuESu9Ynm-MRxGrC_ZjW0RHAhTt-dBee4JsqTeZHUsQ-XX0VYIMpx9708u9S9xNy_qecjai01TDg8IOf3c9CSeUo6-MJZFLySfWmcut8tO_FAm44G3DYohYPdN6LUd1RMbAODVMYWAxh8xpSuS51zESyibO2Rdh-mzSImNSgA_Gy2qi__268UaojVZo7IUL6HL981MXAKWV60J9bJPL-PJCt2oB1sPMrF2gm_RIFboC0GJ_5jDVSdtGcQFZ9SgzoNPJ8rTJVWUBKpt6aZNesQd4l72vgdp03vSs76RjYyXE9xLA-URFdvn7rX-wtJbQgN05ts-hEwpaEAetkzZmjIf6q-6zH6cUfbRiLM-ZJs2CPeUZTYbYPeb0inhvjdWCwSljpp-bUv5yTjFzZJet6Hmc6K1fhuACAv1H_oF33SqAA_dBuA86HuVocI0MJMqBlRZL4QGtWiKL2QfcRdDdweLMJZR52h9gTcUPpws5ALkzAlRe0lpRv4vLI_wMwaiYkF3sNVjrCjVH03zbmT_1VKSTd7ESsvpxV0-eCO3ByJ_xt6COFR2qMyABxGrj8sVJ4PzAGjn2OMkgy1435OSFxlZDLRqAn6Hr9JOI9sSFZ73RSyEG-EPrkcex5VPCQ8y4Q7Tm_TGzhkegr-iiMlI5tRccmG2B2O2lzyJdwEDVSED7sFQguY67_BeSzIzyBCr18iRn3G-szp9izQ6Ih4FJ1hWtQZSZUf48lrMoTpPqGmt_pDgz2Zxi8FyP13a1C_KVPe6RW-ld0YJ_3WkMpjnByr6DXQG7NPV7JPeEPk80kRyyGfcO5OU5sGMDQAvaix0F_e_hec55_VQqQq5rfqGGKPV9GFy3is1GqUN3GtB2n7FjfXtyFA9c_PLerjBRkKSmJiJ_tAyzN5eEzWa6cm_cOywdqh-BXLZL23zfrZzLSaFPCEW1oZeiQNQEVGMeFkjdq-ARfBJRRnwq0LN_Wc8DhVUJalesV5HBc0t_ZRt_UuBwh4zcXo1JBI9-xYo58T9zPdNQI8QKFAh9uZoj9ydTaakVx5S_DR6ttb8OjsDNwBQrjwuvm5QVPJcmcN6oeAlWV4elP8GIPzN1TpVOOc8YRourM_bTDHFcCaVZ-kz0qyPt5s1IpvZWDM7Lbt0VHykjHLxNBzTuJOYtL9koBWMBrimbzq173SKjfh6-8ss70ey0oNjFWNxZLj0Bn8bAd_Wuu5wpueN0QLum-OefsYxtWIzyW7qJ1sHmDUUNeMw../download [following]\n--2021-02-15 18:20:10--  https://public.boxcloud.com/d/1/b1!tQLDaGhT5e_XOD-QGbEzz0JT-aUFIHeXUlTayIrm9dcVq4iBLUo_Uk3bdr70RNig8YZNjFn8Ox_Y3NBZ1GT834q7m9_T4vVF08zw8PZYk7HluqD5bi9VfkwqTOR7l7K7y1FKyWIogVdd8s79IuVBkBCz_eaviSu3qMRUkQ-FOIOh5-_tu2csdHnN2-mReK9S8wirvWEmXuESu9Ynm-MRxGrC_ZjW0RHAhTt-dBee4JsqTeZHUsQ-XX0VYIMpx9708u9S9xNy_qecjai01TDg8IOf3c9CSeUo6-MJZFLySfWmcut8tO_FAm44G3DYohYPdN6LUd1RMbAODVMYWAxh8xpSuS51zESyibO2Rdh-mzSImNSgA_Gy2qi__268UaojVZo7IUL6HL981MXAKWV60J9bJPL-PJCt2oB1sPMrF2gm_RIFboC0GJ_5jDVSdtGcQFZ9SgzoNPJ8rTJVWUBKpt6aZNesQd4l72vgdp03vSs76RjYyXE9xLA-URFdvn7rX-wtJbQgN05ts-hEwpaEAetkzZmjIf6q-6zH6cUfbRiLM-ZJs2CPeUZTYbYPeb0inhvjdWCwSljpp-bUv5yTjFzZJet6Hmc6K1fhuACAv1H_oF33SqAA_dBuA86HuVocI0MJMqBlRZL4QGtWiKL2QfcRdDdweLMJZR52h9gTcUPpws5ALkzAlRe0lpRv4vLI_wMwaiYkF3sNVjrCjVH03zbmT_1VKSTd7ESsvpxV0-eCO3ByJ_xt6COFR2qMyABxGrj8sVJ4PzAGjn2OMkgy1435OSFxlZDLRqAn6Hr9JOI9sSFZ73RSyEG-EPrkcex5VPCQ8y4Q7Tm_TGzhkegr-iiMlI5tRccmG2B2O2lzyJdwEDVSED7sFQguY67_BeSzIzyBCr18iRn3G-szp9izQ6Ih4FJ1hWtQZSZUf48lrMoTpPqGmt_pDgz2Zxi8FyP13a1C_KVPe6RW-ld0YJ_3WkMpjnByr6DXQG7NPV7JPeEPk80kRyyGfcO5OU5sGMDQAvaix0F_e_hec55_VQqQq5rfqGGKPV9GFy3is1GqUN3GtB2n7FjfXtyFA9c_PLerjBRkKSmJiJ_tAyzN5eEzWa6cm_cOywdqh-BXLZL23zfrZzLSaFPCEW1oZeiQNQEVGMeFkjdq-ARfBJRRnwq0LN_Wc8DhVUJalesV5HBc0t_ZRt_UuBwh4zcXo1JBI9-xYo58T9zPdNQI8QKFAh9uZoj9ydTaakVx5S_DR6ttb8OjsDNwBQrjwuvm5QVPJcmcN6oeAlWV4elP8GIPzN1TpVOOc8YRourM_bTDHFcCaVZ-kz0qyPt5s1IpvZWDM7Lbt0VHykjHLxNBzTuJOYtL9koBWMBrimbzq173SKjfh6-8ss70ey0oNjFWNxZLj0Bn8bAd_Wuu5wpueN0QLum-OefsYxtWIzyW7qJ1sHmDUUNeMw../download\nResolving public.boxcloud.com (public.boxcloud.com)... 185.235.236.200\nConnecting to public.boxcloud.com (public.boxcloud.com)|185.235.236.200|:443... connected.\nHTTP request sent, awaiting response... 200 OK\nLength: 2891 (2.8K) [text/csv]\nSaving to: \u2018Geospatial_data.1\u2019\n\nGeospatial_data.1   100%[===================>]   2.82K  --.-KB/s    in 0s      \n\n2021-02-15 18:20:11 (80.0 MB/s) - \u2018Geospatial_data.1\u2019 saved [2891/2891]\n\n"
                }
            ],
            "source": "!wget http://cocl.us/Geospatial_data"
        },
        {
            "cell_type": "code",
            "execution_count": 6,
            "metadata": {},
            "outputs": [],
            "source": "import numpy as np \nimport pandas as pd"
        },
        {
            "cell_type": "code",
            "execution_count": 7,
            "metadata": {},
            "outputs": [
                {
                    "data": {
                        "text/html": "<div>\n<style scoped>\n    .dataframe tbody tr th:only-of-type {\n        vertical-align: middle;\n    }\n\n    .dataframe tbody tr th {\n        vertical-align: top;\n    }\n\n    .dataframe thead th {\n        text-align: right;\n    }\n</style>\n<table border=\"1\" class=\"dataframe\">\n  <thead>\n    <tr style=\"text-align: right;\">\n      <th></th>\n      <th>Postal Code</th>\n      <th>Latitude</th>\n      <th>Longitude</th>\n    </tr>\n  </thead>\n  <tbody>\n    <tr>\n      <th>0</th>\n      <td>M1B</td>\n      <td>43.806686</td>\n      <td>-79.194353</td>\n    </tr>\n    <tr>\n      <th>1</th>\n      <td>M1C</td>\n      <td>43.784535</td>\n      <td>-79.160497</td>\n    </tr>\n    <tr>\n      <th>2</th>\n      <td>M1E</td>\n      <td>43.763573</td>\n      <td>-79.188711</td>\n    </tr>\n    <tr>\n      <th>3</th>\n      <td>M1G</td>\n      <td>43.770992</td>\n      <td>-79.216917</td>\n    </tr>\n    <tr>\n      <th>4</th>\n      <td>M1H</td>\n      <td>43.773136</td>\n      <td>-79.239476</td>\n    </tr>\n  </tbody>\n</table>\n</div>",
                        "text/plain": "  Postal Code   Latitude  Longitude\n0         M1B  43.806686 -79.194353\n1         M1C  43.784535 -79.160497\n2         M1E  43.763573 -79.188711\n3         M1G  43.770992 -79.216917\n4         M1H  43.773136 -79.239476"
                    },
                    "execution_count": 7,
                    "metadata": {},
                    "output_type": "execute_result"
                }
            ],
            "source": "#read geographical coordinate data from csv file\ndf_geo = pd.read_csv('Geospatial_data')\ndf_geo.head()"
        },
        {
            "cell_type": "code",
            "execution_count": 11,
            "metadata": {},
            "outputs": [
                {
                    "data": {
                        "text/html": "<div>\n<style scoped>\n    .dataframe tbody tr th:only-of-type {\n        vertical-align: middle;\n    }\n\n    .dataframe tbody tr th {\n        vertical-align: top;\n    }\n\n    .dataframe thead th {\n        text-align: right;\n    }\n</style>\n<table border=\"1\" class=\"dataframe\">\n  <thead>\n    <tr style=\"text-align: right;\">\n      <th></th>\n      <th>PostalCode</th>\n      <th>Borough</th>\n      <th>Neighborhood</th>\n    </tr>\n  </thead>\n  <tbody>\n    <tr>\n      <th>0</th>\n      <td>M1B</td>\n      <td>Scarborough</td>\n      <td>Malvern, Rouge</td>\n    </tr>\n    <tr>\n      <th>1</th>\n      <td>M1C</td>\n      <td>Scarborough</td>\n      <td>Rouge Hill, Port Union, Highland Creek</td>\n    </tr>\n    <tr>\n      <th>2</th>\n      <td>M1E</td>\n      <td>Scarborough</td>\n      <td>Guildwood, Morningside, West Hill</td>\n    </tr>\n    <tr>\n      <th>3</th>\n      <td>M1G</td>\n      <td>Scarborough</td>\n      <td>Woburn</td>\n    </tr>\n    <tr>\n      <th>4</th>\n      <td>M1H</td>\n      <td>Scarborough</td>\n      <td>Cedarbrae</td>\n    </tr>\n  </tbody>\n</table>\n</div>",
                        "text/plain": "  PostalCode      Borough                            Neighborhood\n0        M1B  Scarborough                          Malvern, Rouge\n1        M1C  Scarborough  Rouge Hill, Port Union, Highland Creek\n2        M1E  Scarborough       Guildwood, Morningside, West Hill\n3        M1G  Scarborough                                  Woburn\n4        M1H  Scarborough                               Cedarbrae"
                    },
                    "execution_count": 11,
                    "metadata": {},
                    "output_type": "execute_result"
                }
            ],
            "source": "# The code was removed by Watson Studio for sharing."
        },
        {
            "cell_type": "code",
            "execution_count": 13,
            "metadata": {},
            "outputs": [
                {
                    "data": {
                        "text/html": "<div>\n<style scoped>\n    .dataframe tbody tr th:only-of-type {\n        vertical-align: middle;\n    }\n\n    .dataframe tbody tr th {\n        vertical-align: top;\n    }\n\n    .dataframe thead th {\n        text-align: right;\n    }\n</style>\n<table border=\"1\" class=\"dataframe\">\n  <thead>\n    <tr style=\"text-align: right;\">\n      <th></th>\n      <th>PostalCode</th>\n      <th>Latitude</th>\n      <th>Longitude</th>\n    </tr>\n  </thead>\n  <tbody>\n    <tr>\n      <th>0</th>\n      <td>M1B</td>\n      <td>43.806686</td>\n      <td>-79.194353</td>\n    </tr>\n    <tr>\n      <th>1</th>\n      <td>M1C</td>\n      <td>43.784535</td>\n      <td>-79.160497</td>\n    </tr>\n    <tr>\n      <th>2</th>\n      <td>M1E</td>\n      <td>43.763573</td>\n      <td>-79.188711</td>\n    </tr>\n    <tr>\n      <th>3</th>\n      <td>M1G</td>\n      <td>43.770992</td>\n      <td>-79.216917</td>\n    </tr>\n    <tr>\n      <th>4</th>\n      <td>M1H</td>\n      <td>43.773136</td>\n      <td>-79.239476</td>\n    </tr>\n  </tbody>\n</table>\n</div>",
                        "text/plain": "  PostalCode   Latitude  Longitude\n0        M1B  43.806686 -79.194353\n1        M1C  43.784535 -79.160497\n2        M1E  43.763573 -79.188711\n3        M1G  43.770992 -79.216917\n4        M1H  43.773136 -79.239476"
                    },
                    "execution_count": 13,
                    "metadata": {},
                    "output_type": "execute_result"
                }
            ],
            "source": "df_geo.columns=['PostalCode','Latitude','Longitude']\ndf_geo.head()\n"
        },
        {
            "cell_type": "code",
            "execution_count": 16,
            "metadata": {},
            "outputs": [
                {
                    "data": {
                        "text/html": "<div>\n<style scoped>\n    .dataframe tbody tr th:only-of-type {\n        vertical-align: middle;\n    }\n\n    .dataframe tbody tr th {\n        vertical-align: top;\n    }\n\n    .dataframe thead th {\n        text-align: right;\n    }\n</style>\n<table border=\"1\" class=\"dataframe\">\n  <thead>\n    <tr style=\"text-align: right;\">\n      <th></th>\n      <th>PostalCode</th>\n      <th>Borough</th>\n      <th>Neighborhood</th>\n      <th>Latitude</th>\n      <th>Longitude</th>\n    </tr>\n  </thead>\n  <tbody>\n    <tr>\n      <th>0</th>\n      <td>M1B</td>\n      <td>Scarborough</td>\n      <td>Malvern, Rouge</td>\n      <td>43.806686</td>\n      <td>-79.194353</td>\n    </tr>\n    <tr>\n      <th>1</th>\n      <td>M1C</td>\n      <td>Scarborough</td>\n      <td>Rouge Hill, Port Union, Highland Creek</td>\n      <td>43.784535</td>\n      <td>-79.160497</td>\n    </tr>\n    <tr>\n      <th>2</th>\n      <td>M1E</td>\n      <td>Scarborough</td>\n      <td>Guildwood, Morningside, West Hill</td>\n      <td>43.763573</td>\n      <td>-79.188711</td>\n    </tr>\n    <tr>\n      <th>3</th>\n      <td>M1G</td>\n      <td>Scarborough</td>\n      <td>Woburn</td>\n      <td>43.770992</td>\n      <td>-79.216917</td>\n    </tr>\n    <tr>\n      <th>4</th>\n      <td>M1H</td>\n      <td>Scarborough</td>\n      <td>Cedarbrae</td>\n      <td>43.773136</td>\n      <td>-79.239476</td>\n    </tr>\n    <tr>\n      <th>...</th>\n      <td>...</td>\n      <td>...</td>\n      <td>...</td>\n      <td>...</td>\n      <td>...</td>\n    </tr>\n    <tr>\n      <th>98</th>\n      <td>M9N</td>\n      <td>York</td>\n      <td>Weston</td>\n      <td>43.706876</td>\n      <td>-79.518188</td>\n    </tr>\n    <tr>\n      <th>99</th>\n      <td>M9P</td>\n      <td>Etobicoke</td>\n      <td>Westmount</td>\n      <td>43.696319</td>\n      <td>-79.532242</td>\n    </tr>\n    <tr>\n      <th>100</th>\n      <td>M9R</td>\n      <td>Etobicoke</td>\n      <td>Kingsview Village, St. Phillips, Martin Grove ...</td>\n      <td>43.688905</td>\n      <td>-79.554724</td>\n    </tr>\n    <tr>\n      <th>101</th>\n      <td>M9V</td>\n      <td>Etobicoke</td>\n      <td>South Steeles, Silverstone, Humbergate, Jamest...</td>\n      <td>43.739416</td>\n      <td>-79.588437</td>\n    </tr>\n    <tr>\n      <th>102</th>\n      <td>M9W</td>\n      <td>Etobicoke</td>\n      <td>Northwest, West Humber - Clairville</td>\n      <td>43.706748</td>\n      <td>-79.594054</td>\n    </tr>\n  </tbody>\n</table>\n<p>103 rows \u00d7 5 columns</p>\n</div>",
                        "text/plain": "    PostalCode      Borough  \\\n0          M1B  Scarborough   \n1          M1C  Scarborough   \n2          M1E  Scarborough   \n3          M1G  Scarborough   \n4          M1H  Scarborough   \n..         ...          ...   \n98         M9N         York   \n99         M9P    Etobicoke   \n100        M9R    Etobicoke   \n101        M9V    Etobicoke   \n102        M9W    Etobicoke   \n\n                                          Neighborhood   Latitude  Longitude  \n0                                       Malvern, Rouge  43.806686 -79.194353  \n1               Rouge Hill, Port Union, Highland Creek  43.784535 -79.160497  \n2                    Guildwood, Morningside, West Hill  43.763573 -79.188711  \n3                                               Woburn  43.770992 -79.216917  \n4                                            Cedarbrae  43.773136 -79.239476  \n..                                                 ...        ...        ...  \n98                                              Weston  43.706876 -79.518188  \n99                                           Westmount  43.696319 -79.532242  \n100  Kingsview Village, St. Phillips, Martin Grove ...  43.688905 -79.554724  \n101  South Steeles, Silverstone, Humbergate, Jamest...  43.739416 -79.588437  \n102                Northwest, West Humber - Clairville  43.706748 -79.594054  \n\n[103 rows x 5 columns]"
                    },
                    "execution_count": 16,
                    "metadata": {},
                    "output_type": "execute_result"
                }
            ],
            "source": "#merge data\ndf_toronto=pd.merge(df_data_1, df_geo, on=\"PostalCode\", how='left')\ndf_toronto"
        },
        {
            "cell_type": "code",
            "execution_count": 15,
            "metadata": {},
            "outputs": [
                {
                    "data": {
                        "text/html": "<div>\n<style scoped>\n    .dataframe tbody tr th:only-of-type {\n        vertical-align: middle;\n    }\n\n    .dataframe tbody tr th {\n        vertical-align: top;\n    }\n\n    .dataframe thead th {\n        text-align: right;\n    }\n</style>\n<table border=\"1\" class=\"dataframe\">\n  <thead>\n    <tr style=\"text-align: right;\">\n      <th></th>\n      <th>PostalCode</th>\n      <th>Borough</th>\n      <th>Neighborhood</th>\n      <th>Latitude</th>\n      <th>Longitude</th>\n    </tr>\n  </thead>\n  <tbody>\n    <tr>\n      <th>101</th>\n      <td>M9V</td>\n      <td>Etobicoke</td>\n      <td>South Steeles, Silverstone, Humbergate, Jamest...</td>\n      <td>43.739416</td>\n      <td>-79.588437</td>\n    </tr>\n  </tbody>\n</table>\n</div>",
                        "text/plain": "    PostalCode    Borough                                       Neighborhood  \\\n101        M9V  Etobicoke  South Steeles, Silverstone, Humbergate, Jamest...   \n\n      Latitude  Longitude  \n101  43.739416 -79.588437  "
                    },
                    "execution_count": 15,
                    "metadata": {},
                    "output_type": "execute_result"
                }
            ],
            "source": "#Check a postal code \ndf_toronto.loc[df_toronto['PostalCode']=='M9V']"
        },
        {
            "cell_type": "code",
            "execution_count": null,
            "metadata": {},
            "outputs": [],
            "source": ""
        }
    ],
    "metadata": {
        "kernelspec": {
            "display_name": "Python 3.7",
            "language": "python",
            "name": "python3"
        },
        "language_info": {
            "codemirror_mode": {
                "name": "ipython",
                "version": 3
            },
            "file_extension": ".py",
            "mimetype": "text/x-python",
            "name": "python",
            "nbconvert_exporter": "python",
            "pygments_lexer": "ipython3",
            "version": "3.7.9"
        }
    },
    "nbformat": 4,
    "nbformat_minor": 1
}